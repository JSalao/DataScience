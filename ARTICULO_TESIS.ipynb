{
 "cells": [
  {
   "cell_type": "code",
   "execution_count": 1,
   "id": "2a3cb546",
   "metadata": {},
   "outputs": [],
   "source": [
    "import pandas as pd\n",
    "import numpy as np \n",
    "import matplotlib.pyplot as plt \n",
    "import seaborn as sns; sns.set()  \n",
    "\n",
    "\n"
   ]
  },
  {
   "cell_type": "code",
   "execution_count": 3,
   "id": "341708ec",
   "metadata": {},
   "outputs": [
    {
     "data": {
      "text/html": [
       "<div>\n",
       "<style scoped>\n",
       "    .dataframe tbody tr th:only-of-type {\n",
       "        vertical-align: middle;\n",
       "    }\n",
       "\n",
       "    .dataframe tbody tr th {\n",
       "        vertical-align: top;\n",
       "    }\n",
       "\n",
       "    .dataframe thead th {\n",
       "        text-align: right;\n",
       "    }\n",
       "</style>\n",
       "<table border=\"1\" class=\"dataframe\">\n",
       "  <thead>\n",
       "    <tr style=\"text-align: right;\">\n",
       "      <th></th>\n",
       "      <th>t</th>\n",
       "      <th>pos</th>\n",
       "      <th>neg</th>\n",
       "      <th>neu</th>\n",
       "      <th>compound</th>\n",
       "      <th>name</th>\n",
       "      <th>SENTIMENT</th>\n",
       "    </tr>\n",
       "  </thead>\n",
       "  <tbody>\n",
       "    <tr>\n",
       "      <th>0</th>\n",
       "      <td>1.55</td>\n",
       "      <td>0.280</td>\n",
       "      <td>0.070</td>\n",
       "      <td>0.655</td>\n",
       "      <td>0.7609</td>\n",
       "      <td>Case1</td>\n",
       "      <td>POSITIVO</td>\n",
       "    </tr>\n",
       "    <tr>\n",
       "      <th>1</th>\n",
       "      <td>1.13</td>\n",
       "      <td>0.065</td>\n",
       "      <td>0.069</td>\n",
       "      <td>0.866</td>\n",
       "      <td>0.2023</td>\n",
       "      <td>Case10</td>\n",
       "      <td>NEUTRO</td>\n",
       "    </tr>\n",
       "    <tr>\n",
       "      <th>2</th>\n",
       "      <td>1.21</td>\n",
       "      <td>0.105</td>\n",
       "      <td>0.110</td>\n",
       "      <td>0.785</td>\n",
       "      <td>-0.0798</td>\n",
       "      <td>Case11</td>\n",
       "      <td>NEUTRO</td>\n",
       "    </tr>\n",
       "    <tr>\n",
       "      <th>3</th>\n",
       "      <td>1.24</td>\n",
       "      <td>0.118</td>\n",
       "      <td>0.032</td>\n",
       "      <td>0.850</td>\n",
       "      <td>0.5321</td>\n",
       "      <td>Case12</td>\n",
       "      <td>POSITIVO</td>\n",
       "    </tr>\n",
       "    <tr>\n",
       "      <th>4</th>\n",
       "      <td>1.09</td>\n",
       "      <td>0.046</td>\n",
       "      <td>0.131</td>\n",
       "      <td>0.823</td>\n",
       "      <td>-0.5696</td>\n",
       "      <td>Case13</td>\n",
       "      <td>NEGATIVO</td>\n",
       "    </tr>\n",
       "  </tbody>\n",
       "</table>\n",
       "</div>"
      ],
      "text/plain": [
       "      t    pos    neg    neu  compound    name SENTIMENT\n",
       "0  1.55  0.280  0.070  0.655    0.7609   Case1  POSITIVO\n",
       "1  1.13  0.065  0.069  0.866    0.2023  Case10    NEUTRO\n",
       "2  1.21  0.105  0.110  0.785   -0.0798  Case11    NEUTRO\n",
       "3  1.24  0.118  0.032  0.850    0.5321  Case12  POSITIVO\n",
       "4  1.09  0.046  0.131  0.823   -0.5696  Case13  NEGATIVO"
      ]
     },
     "execution_count": 3,
     "metadata": {},
     "output_type": "execute_result"
    }
   ],
   "source": [
    "#Lectura\n",
    "resultados = pd.read_csv(\"Dataset\\\\resultado.csv\",delimiter=';')\n",
    "resultados.head()\n"
   ]
  },
  {
   "cell_type": "code",
   "execution_count": 25,
   "id": "519c3662",
   "metadata": {},
   "outputs": [
    {
     "data": {
      "text/plain": [
       "t            float64\n",
       "pos          float64\n",
       "neg          float64\n",
       "neu          float64\n",
       "compound     float64\n",
       "name          object\n",
       "SENTIMENT     object\n",
       "dtype: object"
      ]
     },
     "execution_count": 25,
     "metadata": {},
     "output_type": "execute_result"
    }
   ],
   "source": [
    "resultados.dtypes\n"
   ]
  },
  {
   "cell_type": "code",
   "execution_count": 4,
   "id": "03285048",
   "metadata": {},
   "outputs": [
    {
     "data": {
      "text/plain": [
       "Text(0.5, 0, 'SENTIMENT')"
      ]
     },
     "execution_count": 4,
     "metadata": {},
     "output_type": "execute_result"
    },
    {
     "data": {
      "image/png": "[encoded data removed]",
      "text/plain": [
       "<Figure size 432x288 with 1 Axes>"
      ]
     },
     "metadata": {},
     "output_type": "display_data"
    }
   ],
   "source": [
    "resultados['SENTIMENT'].hist(bins=5)\n",
    "plt.xlabel('SENTIMENT')"
   ]
  },
  {
   "cell_type": "code",
   "execution_count": 6,
   "id": "2b72c43f",
   "metadata": {},
   "outputs": [
    {
     "data": {
      "text/plain": [
       "array(['POSITIVO', 'NEUTRO', 'NEUTRO', 'POSITIVO', 'NEGATIVO', 'NEUTRO',\n",
       "       'POSITIVO', 'POSITIVO', 'POSITIVO', 'NEUTRO', 'NEGATIVO',\n",
       "       'POSITIVO', 'NEUTRO', 'POSITIVO', 'NEGATIVO', 'NEUTRO', 'NEGATIVO',\n",
       "       'NEGATIVO', 'POSITIVO', 'NEUTRO', 'NEGATIVO'], dtype=object)"
      ]
     },
     "execution_count": 6,
     "metadata": {},
     "output_type": "execute_result"
    }
   ],
   "source": [
    "labels = resultados['SENTIMENT'].values\n",
    "labels"
   ]
  },
  {
   "cell_type": "code",
   "execution_count": 43,
   "id": "1ad01851",
   "metadata": {},
   "outputs": [
    {
     "data": {
      "text/html": [
       "<div>\n",
       "<style scoped>\n",
       "    .dataframe tbody tr th:only-of-type {\n",
       "        vertical-align: middle;\n",
       "    }\n",
       "\n",
       "    .dataframe tbody tr th {\n",
       "        vertical-align: top;\n",
       "    }\n",
       "\n",
       "    .dataframe thead th {\n",
       "        text-align: right;\n",
       "    }\n",
       "</style>\n",
       "<table border=\"1\" class=\"dataframe\">\n",
       "  <thead>\n",
       "    <tr style=\"text-align: right;\">\n",
       "      <th></th>\n",
       "      <th>NEGATIVO</th>\n",
       "      <th>NEUTRO</th>\n",
       "      <th>POSITIVO</th>\n",
       "    </tr>\n",
       "  </thead>\n",
       "  <tbody>\n",
       "    <tr>\n",
       "      <th>0</th>\n",
       "      <td>0</td>\n",
       "      <td>0</td>\n",
       "      <td>1</td>\n",
       "    </tr>\n",
       "    <tr>\n",
       "      <th>1</th>\n",
       "      <td>0</td>\n",
       "      <td>1</td>\n",
       "      <td>0</td>\n",
       "    </tr>\n",
       "    <tr>\n",
       "      <th>2</th>\n",
       "      <td>0</td>\n",
       "      <td>1</td>\n",
       "      <td>0</td>\n",
       "    </tr>\n",
       "    <tr>\n",
       "      <th>3</th>\n",
       "      <td>0</td>\n",
       "      <td>1</td>\n",
       "      <td>0</td>\n",
       "    </tr>\n",
       "    <tr>\n",
       "      <th>4</th>\n",
       "      <td>0</td>\n",
       "      <td>1</td>\n",
       "      <td>0</td>\n",
       "    </tr>\n",
       "  </tbody>\n",
       "</table>\n",
       "</div>"
      ],
      "text/plain": [
       "   NEGATIVO  NEUTRO  POSITIVO\n",
       "0         0       0         1\n",
       "1         0       1         0\n",
       "2         0       1         0\n",
       "3         0       1         0\n",
       "4         0       1         0"
      ]
     },
     "execution_count": 43,
     "metadata": {},
     "output_type": "execute_result"
    }
   ],
   "source": [
    "sentim = pd.get_dummies(resultados['SENTIMENT'])\n",
    "sentim.head()\n"
   ]
  },
  {
   "cell_type": "code",
   "execution_count": 7,
   "id": "7405f2bc",
   "metadata": {},
   "outputs": [
    {
     "name": "stdout",
     "output_type": "stream",
     "text": [
      "[1 2 2 1 3 2 1 1 1 2 3 1 2 1 3 2 3 3 1 2 3]\n"
     ]
    }
   ],
   "source": [
    "codes, uniques = pd.factorize(labels )\n",
    "codes = codes +1\n",
    "print (codes)"
   ]
  },
  {
   "cell_type": "code",
   "execution_count": 8,
   "id": "dc64baaa",
   "metadata": {},
   "outputs": [
    {
     "data": {
      "image/png": "[encoded data removed]",
      "text/plain": [
       "<Figure size 432x288 with 1 Axes>"
      ]
     },
     "metadata": {},
     "output_type": "display_data"
    }
   ],
   "source": [
    "sns.regplot(x=resultados['t'], y=resultados['compound'], data=resultados);"
   ]
  },
  {
   "cell_type": "code",
   "execution_count": 15,
   "id": "44297c86",
   "metadata": {},
   "outputs": [
    {
     "data": {
      "text/plain": [
       "(21,)"
      ]
     },
     "execution_count": 15,
     "metadata": {},
     "output_type": "execute_result"
    }
   ],
   "source": [
    "x = resultados['t'].values\n",
    "y= resultados['compound'].values\n",
    "x.shape\n",
    "y.shape"
   ]
  },
  {
   "cell_type": "code",
   "execution_count": 24,
   "id": "6416e9b4",
   "metadata": {},
   "outputs": [
    {
     "data": {
      "text/plain": [
       "dtype('float64')"
      ]
     },
     "execution_count": 24,
     "metadata": {},
     "output_type": "execute_result"
    }
   ],
   "source": [
    "y.dtype"
   ]
  },
  {
   "cell_type": "code",
   "execution_count": 29,
   "id": "43367e04",
   "metadata": {},
   "outputs": [
    {
     "data": {
      "image/png": "[encoded data removed]",
      "text/plain": [
       "<Figure size 360x360 with 1 Axes>"
      ]
     },
     "metadata": {},
     "output_type": "display_data"
    }
   ],
   "source": [
    "sns.lmplot( x='t', y='compound', data = resultados,fit_reg=False, hue='SENTIMENT', legend=False)\n",
    "plt.legend(loc='best');"
   ]
  },
  {
   "cell_type": "code",
   "execution_count": 10,
   "id": "784d7a4b",
   "metadata": {},
   "outputs": [
    {
     "name": "stdout",
     "output_type": "stream",
     "text": [
      "Pearson:  0.7534879922183709\n",
      "Spearman:  0.9339210521480742\n",
      "Kendall:  0.7990900397582658\n"
     ]
    }
   ],
   "source": [
    "#correlación entre variables \n",
    "\n",
    "print('Pearson: ', resultados['t'].corr(resultados['compound'], method='pearson'))\n",
    "print('Spearman: ', resultados['t'].corr(resultados['compound'], method='spearman'))\n",
    "print('Kendall: ', resultados['t'].corr(resultados['compound'], method='kendall'))"
   ]
  }
 ],
 "metadata": {
  "kernelspec": {
   "display_name": "Python 3 (ipykernel)",
   "language": "python",
   "name": "python3"
  },
  "language_info": {
   "codemirror_mode": {
    "name": "ipython",
    "version": 3
   },
   "file_extension": ".py",
   "mimetype": "text/x-python",
   "name": "python",
   "nbconvert_exporter": "python",
   "pygments_lexer": "ipython3",
   "version": "3.9.7"
  }
 },
 "nbformat": 4,
 "nbformat_minor": 5
}
