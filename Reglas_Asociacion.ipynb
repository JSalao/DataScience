{
 "cells": [
  {
   "cell_type": "markdown",
   "id": "9642cf7a",
   "metadata": {},
   "source": [
    "### Reglas de Asociación"
   ]
  },
  {
   "cell_type": "markdown",
   "id": "427ffa5a",
   "metadata": {},
   "source": [
    "Librerias"
   ]
  },
  {
   "cell_type": "code",
   "execution_count": 3,
   "id": "6509586d",
   "metadata": {},
   "outputs": [],
   "source": [
    "# Tratamiento de datos\n",
    "# ==============================================================================\n",
    "import pandas as pd\n",
    "import numpy as np\n",
    "import statsmodels.api as sm\n",
    "import seaborn as sns\n",
    "import json\n",
    "from scipy import stats\n",
    "from fitter import Fitter, get_common_distributions\n",
    "from datetime import datetime\n",
    "import datetime as dt\n",
    "\n",
    "# Gráficos\n",
    "# ==============================================================================\n",
    "import matplotlib.pyplot as plt\n",
    "import matplotlib as mpl\n",
    "from matplotlib.patches import Ellipse\n",
    "from matplotlib import style\n",
    "from matplotlib.colors import ListedColormap\n",
    "import matplotlib.patches as mpatches\n",
    "style.use('ggplot') or plt.style.use('ggplot')\n",
    "%matplotlib inline\n",
    "import matplotlib.font_manager\n",
    "#from shapely.geometry import shape, Point\n",
    "from plotnine import *"
   ]
  },
  {
   "cell_type": "code",
   "execution_count": 4,
   "id": "950e42fc",
   "metadata": {},
   "outputs": [],
   "source": [
    "# Librerias para el modelo apriori(reglas de asociacion por items)\n",
    "from mlxtend.frequent_patterns import apriori \n",
    "from mlxtend.frequent_patterns import association_rules\n",
    "from imblearn.ensemble import BalancedBaggingClassifier\n"
   ]
  },
  {
   "cell_type": "markdown",
   "id": "fb2da9fe",
   "metadata": {},
   "source": [
    "#### Modelo Apriori"
   ]
  },
  {
   "cell_type": "code",
   "execution_count": 6,
   "id": "7d6b4853",
   "metadata": {},
   "outputs": [],
   "source": [
    "ventasP = pd.read_csv ('Datos_2020.csv', delimiter=';')"
   ]
  },
  {
   "cell_type": "code",
   "execution_count": 7,
   "id": "bee1a657",
   "metadata": {},
   "outputs": [
    {
     "name": "stdout",
     "output_type": "stream",
     "text": [
      "<class 'pandas.core.frame.DataFrame'>\n",
      "RangeIndex: 188526 entries, 0 to 188525\n",
      "Data columns (total 19 columns):\n",
      " #   Column             Non-Null Count   Dtype  \n",
      "---  ------             --------------   -----  \n",
      " 0   FECHA              188526 non-null  object \n",
      " 1   CANAL              188526 non-null  object \n",
      " 2   FACTURA            188526 non-null  object \n",
      " 3   Id_Cliente         188526 non-null  int64  \n",
      " 4   PROVINCIA_CLIENTE  188526 non-null  object \n",
      " 5   CIUDAD_CLIENTE     188526 non-null  object \n",
      " 6   des_estado_civil   188526 non-null  object \n",
      " 7   des_sexo           188526 non-null  object \n",
      " 8   EDAD               182302 non-null  float64\n",
      " 9   FORMA_PAGO         188526 non-null  object \n",
      " 10  MEDIO_PAGO         188526 non-null  object \n",
      " 11  LINEA              188526 non-null  object \n",
      " 12  GRUPO              188526 non-null  object \n",
      " 13  MARCA              188526 non-null  object \n",
      " 14  COD_PRODUCTO       188526 non-null  object \n",
      " 15  PRODUCTO           188526 non-null  object \n",
      " 16  UNIDADES_VENDIDAS  188526 non-null  int64  \n",
      " 17  VENTA_TOTAL        188526 non-null  float64\n",
      " 18  DESCUENTO          188526 non-null  float64\n",
      "dtypes: float64(3), int64(2), object(14)\n",
      "memory usage: 27.3+ MB\n"
     ]
    }
   ],
   "source": [
    "ventasP.info()"
   ]
  },
  {
   "cell_type": "code",
   "execution_count": 8,
   "id": "554d25a5",
   "metadata": {},
   "outputs": [],
   "source": [
    "# Tipo string las variables Factura y Grupo de Producto\n",
    "ventasP['GRUPO'] = ventasP['GRUPO'].str.strip()\n",
    "ventasP.dropna(axis=0, subset=['FACTURA'],inplace=True)\n",
    "ventasP['FACTURA']= ventasP['FACTURA'].astype('str')"
   ]
  },
  {
   "cell_type": "code",
   "execution_count": 9,
   "id": "6b55ebc3",
   "metadata": {},
   "outputs": [],
   "source": [
    "# se crea la data, transacciones por items\n",
    "basket = (ventasP.groupby(['FACTURA','GRUPO'])['UNIDADES_VENDIDAS']\n",
    "                .sum().unstack().reset_index().fillna(0)\n",
    "                .set_index('FACTURA'))"
   ]
  },
  {
   "cell_type": "code",
   "execution_count": 10,
   "id": "df908512",
   "metadata": {},
   "outputs": [
    {
     "data": {
      "text/html": [
       "<div>\n",
       "<style scoped>\n",
       "    .dataframe tbody tr th:only-of-type {\n",
       "        vertical-align: middle;\n",
       "    }\n",
       "\n",
       "    .dataframe tbody tr th {\n",
       "        vertical-align: top;\n",
       "    }\n",
       "\n",
       "    .dataframe thead th {\n",
       "        text-align: right;\n",
       "    }\n",
       "</style>\n",
       "<table border=\"1\" class=\"dataframe\">\n",
       "  <thead>\n",
       "    <tr style=\"text-align: right;\">\n",
       "      <th></th>\n",
       "      <th>support</th>\n",
       "      <th>itemsets</th>\n",
       "    </tr>\n",
       "  </thead>\n",
       "  <tbody>\n",
       "    <tr>\n",
       "      <th>57</th>\n",
       "      <td>0.202792</td>\n",
       "      <td>(TELEVISORES)</td>\n",
       "    </tr>\n",
       "    <tr>\n",
       "      <th>59</th>\n",
       "      <td>0.113735</td>\n",
       "      <td>(VENTILADORES)</td>\n",
       "    </tr>\n",
       "    <tr>\n",
       "      <th>48</th>\n",
       "      <td>0.105920</td>\n",
       "      <td>(REFRIGERADORAS)</td>\n",
       "    </tr>\n",
       "    <tr>\n",
       "      <th>15</th>\n",
       "      <td>0.091129</td>\n",
       "      <td>(COCINAS)</td>\n",
       "    </tr>\n",
       "    <tr>\n",
       "      <th>30</th>\n",
       "      <td>0.087678</td>\n",
       "      <td>(LAVADORAS)</td>\n",
       "    </tr>\n",
       "  </tbody>\n",
       "</table>\n",
       "</div>"
      ],
      "text/plain": [
       "     support          itemsets\n",
       "57  0.202792     (TELEVISORES)\n",
       "59  0.113735    (VENTILADORES)\n",
       "48  0.105920  (REFRIGERADORAS)\n",
       "15  0.091129         (COCINAS)\n",
       "30  0.087678       (LAVADORAS)"
      ]
     },
     "execution_count": 10,
     "metadata": {},
     "output_type": "execute_result"
    }
   ],
   "source": [
    "# Soporte para cada items\n",
    "frequent_itemsets = apriori(basket > 0, min_support=0.001,use_colnames=True).sort_values(by = 'support', ascending = False)\n",
    "frequent_itemsets.head()"
   ]
  },
  {
   "cell_type": "code",
   "execution_count": 11,
   "id": "3c590633",
   "metadata": {},
   "outputs": [
    {
     "name": "stderr",
     "output_type": "stream",
     "text": [
      "<ipython-input-11-19e61dc40d99>:3: FutureWarning: The default value of regex will change from True to False in a future version. In addition, single character regular expressions will*not* be treated as literal strings when regex=True.\n"
     ]
    }
   ],
   "source": [
    "# frecuencia de los itemsets\n",
    "frequent_itemsets['itemsets_cl'] = frequent_itemsets['itemsets'].astype(str)\n",
    "frequent_itemsets['itemsets_cl'] = frequent_itemsets['itemsets_cl'].str.replace(\"frozenset\",\"\").str.replace(\"'\",\"\").str.replace(\"{\",\"\").str.replace(\"(\",\"\").str.replace(\"}\",\"\").str.replace(\")\",\"\")\n",
    "frequent_itemsets_top = frequent_itemsets.head(10)"
   ]
  },
  {
   "cell_type": "code",
   "execution_count": 12,
   "id": "5e073630",
   "metadata": {},
   "outputs": [
    {
     "data": {
      "image/png": "[encoded data removed]",
      "text/plain": [
       "<Figure size 720x576 with 1 Axes>"
      ]
     },
     "metadata": {
      "needs_background": "light"
     },
     "output_type": "display_data"
    }
   ],
   "source": [
    "# Grafico\n",
    "fig,axs = plt.subplots(figsize=(10,8)) \n",
    "sns.barplot( data = frequent_itemsets_top , x='support', y='itemsets_cl', orient =\"h\", \n",
    "            order=frequent_itemsets_top.sort_values('support',ascending = False).itemsets_cl)\n",
    "_=plt.xlabel(\"support\")\n",
    "_=plt.ylabel(\"Grupos\")\n",
    "_=plt.suptitle(\"Top 10 por Items con mayor Support de ventas\")"
   ]
  },
  {
   "cell_type": "code",
   "execution_count": 13,
   "id": "cae48fec",
   "metadata": {},
   "outputs": [],
   "source": [
    "# Comentario:\n",
    "# support.- El soporte se refiere a la popularidad predeterminada de un items en particular (% de participacion).\n",
    "#           se calcula: el # de transacciones que contiene el itmes / el # total de las transacciones."
   ]
  },
  {
   "cell_type": "code",
   "execution_count": 14,
   "id": "03497878",
   "metadata": {},
   "outputs": [
    {
     "data": {
      "text/html": [
       "<div>\n",
       "<style scoped>\n",
       "    .dataframe tbody tr th:only-of-type {\n",
       "        vertical-align: middle;\n",
       "    }\n",
       "\n",
       "    .dataframe tbody tr th {\n",
       "        vertical-align: top;\n",
       "    }\n",
       "\n",
       "    .dataframe thead th {\n",
       "        text-align: right;\n",
       "    }\n",
       "</style>\n",
       "<table border=\"1\" class=\"dataframe\">\n",
       "  <thead>\n",
       "    <tr style=\"text-align: right;\">\n",
       "      <th></th>\n",
       "      <th>support</th>\n",
       "    </tr>\n",
       "  </thead>\n",
       "  <tbody>\n",
       "    <tr>\n",
       "      <th>count</th>\n",
       "      <td>175.000000</td>\n",
       "    </tr>\n",
       "    <tr>\n",
       "      <th>mean</th>\n",
       "      <td>0.009212</td>\n",
       "    </tr>\n",
       "    <tr>\n",
       "      <th>std</th>\n",
       "      <td>0.023054</td>\n",
       "    </tr>\n",
       "    <tr>\n",
       "      <th>min</th>\n",
       "      <td>0.001007</td>\n",
       "    </tr>\n",
       "    <tr>\n",
       "      <th>25%</th>\n",
       "      <td>0.001354</td>\n",
       "    </tr>\n",
       "    <tr>\n",
       "      <th>50%</th>\n",
       "      <td>0.002452</td>\n",
       "    </tr>\n",
       "    <tr>\n",
       "      <th>75%</th>\n",
       "      <td>0.006118</td>\n",
       "    </tr>\n",
       "    <tr>\n",
       "      <th>max</th>\n",
       "      <td>0.202792</td>\n",
       "    </tr>\n",
       "  </tbody>\n",
       "</table>\n",
       "</div>"
      ],
      "text/plain": [
       "          support\n",
       "count  175.000000\n",
       "mean     0.009212\n",
       "std      0.023054\n",
       "min      0.001007\n",
       "25%      0.001354\n",
       "50%      0.002452\n",
       "75%      0.006118\n",
       "max      0.202792"
      ]
     },
     "execution_count": 14,
     "metadata": {},
     "output_type": "execute_result"
    }
   ],
   "source": [
    "frequent_itemsets.describe()"
   ]
  },
  {
   "cell_type": "code",
   "execution_count": 15,
   "id": "40fe29a2",
   "metadata": {},
   "outputs": [
    {
     "data": {
      "text/html": [
       "<div>\n",
       "<style scoped>\n",
       "    .dataframe tbody tr th:only-of-type {\n",
       "        vertical-align: middle;\n",
       "    }\n",
       "\n",
       "    .dataframe tbody tr th {\n",
       "        vertical-align: top;\n",
       "    }\n",
       "\n",
       "    .dataframe thead th {\n",
       "        text-align: right;\n",
       "    }\n",
       "</style>\n",
       "<table border=\"1\" class=\"dataframe\">\n",
       "  <thead>\n",
       "    <tr style=\"text-align: right;\">\n",
       "      <th></th>\n",
       "      <th>antecedents</th>\n",
       "      <th>consequents</th>\n",
       "      <th>antecedent support</th>\n",
       "      <th>consequent support</th>\n",
       "      <th>support</th>\n",
       "      <th>confidence</th>\n",
       "      <th>lift</th>\n",
       "      <th>leverage</th>\n",
       "      <th>conviction</th>\n",
       "    </tr>\n",
       "  </thead>\n",
       "  <tbody>\n",
       "    <tr>\n",
       "      <th>25</th>\n",
       "      <td>(COLCHONES, SARTEN, COCINAS)</td>\n",
       "      <td>(REFRIGERADORAS)</td>\n",
       "      <td>0.001343</td>\n",
       "      <td>0.105920</td>\n",
       "      <td>0.001335</td>\n",
       "      <td>0.994565</td>\n",
       "      <td>9.389789</td>\n",
       "      <td>0.001193</td>\n",
       "      <td>164.510744</td>\n",
       "    </tr>\n",
       "    <tr>\n",
       "      <th>26</th>\n",
       "      <td>(COCINAS, SARTEN, REFRIGERADORAS)</td>\n",
       "      <td>(COLCHONES)</td>\n",
       "      <td>0.001350</td>\n",
       "      <td>0.025021</td>\n",
       "      <td>0.001335</td>\n",
       "      <td>0.989189</td>\n",
       "      <td>39.534970</td>\n",
       "      <td>0.001302</td>\n",
       "      <td>90.185593</td>\n",
       "    </tr>\n",
       "    <tr>\n",
       "      <th>24</th>\n",
       "      <td>(COLCHONES, SARTEN, REFRIGERADORAS)</td>\n",
       "      <td>(COCINAS)</td>\n",
       "      <td>0.001357</td>\n",
       "      <td>0.091129</td>\n",
       "      <td>0.001335</td>\n",
       "      <td>0.983871</td>\n",
       "      <td>10.796426</td>\n",
       "      <td>0.001212</td>\n",
       "      <td>56.349982</td>\n",
       "    </tr>\n",
       "    <tr>\n",
       "      <th>15</th>\n",
       "      <td>(COLCHONES, SARTEN)</td>\n",
       "      <td>(REFRIGERADORAS)</td>\n",
       "      <td>0.001408</td>\n",
       "      <td>0.105920</td>\n",
       "      <td>0.001357</td>\n",
       "      <td>0.963731</td>\n",
       "      <td>9.098676</td>\n",
       "      <td>0.001208</td>\n",
       "      <td>24.651067</td>\n",
       "    </tr>\n",
       "    <tr>\n",
       "      <th>21</th>\n",
       "      <td>(COLCHONES, SARTEN)</td>\n",
       "      <td>(COCINAS)</td>\n",
       "      <td>0.001408</td>\n",
       "      <td>0.091129</td>\n",
       "      <td>0.001343</td>\n",
       "      <td>0.953368</td>\n",
       "      <td>10.461703</td>\n",
       "      <td>0.001214</td>\n",
       "      <td>19.490227</td>\n",
       "    </tr>\n",
       "  </tbody>\n",
       "</table>\n",
       "</div>"
      ],
      "text/plain": [
       "                            antecedents       consequents  antecedent support  \\\n",
       "25         (COLCHONES, SARTEN, COCINAS)  (REFRIGERADORAS)            0.001343   \n",
       "26    (COCINAS, SARTEN, REFRIGERADORAS)       (COLCHONES)            0.001350   \n",
       "24  (COLCHONES, SARTEN, REFRIGERADORAS)         (COCINAS)            0.001357   \n",
       "15                  (COLCHONES, SARTEN)  (REFRIGERADORAS)            0.001408   \n",
       "21                  (COLCHONES, SARTEN)         (COCINAS)            0.001408   \n",
       "\n",
       "    consequent support   support  confidence       lift  leverage  conviction  \n",
       "25            0.105920  0.001335    0.994565   9.389789  0.001193  164.510744  \n",
       "26            0.025021  0.001335    0.989189  39.534970  0.001302   90.185593  \n",
       "24            0.091129  0.001335    0.983871  10.796426  0.001212   56.349982  \n",
       "15            0.105920  0.001357    0.963731   9.098676  0.001208   24.651067  \n",
       "21            0.091129  0.001343    0.953368  10.461703  0.001214   19.490227  "
      ]
     },
     "execution_count": 15,
     "metadata": {},
     "output_type": "execute_result"
    }
   ],
   "source": [
    "## Modelo de Reglas de Asociacion (Algoritmo Apriori)\n",
    "# Reglas con mayor Nro de Confianza.\n",
    "rules = association_rules(frequent_itemsets, metric=\"confidence\",min_threshold=0.4).sort_values('confidence',ascending = False)\n",
    "rules.head()"
   ]
  },
  {
   "cell_type": "code",
   "execution_count": 16,
   "id": "dfc46a83",
   "metadata": {},
   "outputs": [],
   "source": [
    "rules['rules'] = rules['antecedents'].astype(str) +' --> '+ rules['consequents'].astype(str)\n",
    "rules = rules.head(10)"
   ]
  },
  {
   "cell_type": "code",
   "execution_count": 17,
   "id": "a5c72e48",
   "metadata": {},
   "outputs": [
    {
     "name": "stderr",
     "output_type": "stream",
     "text": [
      "<ipython-input-17-57e656b98586>:1: FutureWarning: The default value of regex will change from True to False in a future version. In addition, single character regular expressions will*not* be treated as literal strings when regex=True.\n"
     ]
    },
    {
     "data": {
      "text/html": [
       "<div>\n",
       "<style scoped>\n",
       "    .dataframe tbody tr th:only-of-type {\n",
       "        vertical-align: middle;\n",
       "    }\n",
       "\n",
       "    .dataframe tbody tr th {\n",
       "        vertical-align: top;\n",
       "    }\n",
       "\n",
       "    .dataframe thead th {\n",
       "        text-align: right;\n",
       "    }\n",
       "</style>\n",
       "<table border=\"1\" class=\"dataframe\">\n",
       "  <thead>\n",
       "    <tr style=\"text-align: right;\">\n",
       "      <th></th>\n",
       "      <th>antecedents</th>\n",
       "      <th>consequents</th>\n",
       "      <th>antecedent support</th>\n",
       "      <th>consequent support</th>\n",
       "      <th>support</th>\n",
       "      <th>confidence</th>\n",
       "      <th>lift</th>\n",
       "      <th>leverage</th>\n",
       "      <th>conviction</th>\n",
       "      <th>rules</th>\n",
       "    </tr>\n",
       "  </thead>\n",
       "  <tbody>\n",
       "    <tr>\n",
       "      <th>25</th>\n",
       "      <td>(COLCHONES, SARTEN, COCINAS)</td>\n",
       "      <td>(REFRIGERADORAS)</td>\n",
       "      <td>0.001343</td>\n",
       "      <td>0.105920</td>\n",
       "      <td>0.001335</td>\n",
       "      <td>0.994565</td>\n",
       "      <td>9.389789</td>\n",
       "      <td>0.001193</td>\n",
       "      <td>164.510744</td>\n",
       "      <td>COLCHONES, SARTEN, COCINAS --&gt; REFRIGERADORAS</td>\n",
       "    </tr>\n",
       "    <tr>\n",
       "      <th>26</th>\n",
       "      <td>(COCINAS, SARTEN, REFRIGERADORAS)</td>\n",
       "      <td>(COLCHONES)</td>\n",
       "      <td>0.001350</td>\n",
       "      <td>0.025021</td>\n",
       "      <td>0.001335</td>\n",
       "      <td>0.989189</td>\n",
       "      <td>39.534970</td>\n",
       "      <td>0.001302</td>\n",
       "      <td>90.185593</td>\n",
       "      <td>COCINAS, SARTEN, REFRIGERADORAS --&gt; COLCHONES</td>\n",
       "    </tr>\n",
       "    <tr>\n",
       "      <th>24</th>\n",
       "      <td>(COLCHONES, SARTEN, REFRIGERADORAS)</td>\n",
       "      <td>(COCINAS)</td>\n",
       "      <td>0.001357</td>\n",
       "      <td>0.091129</td>\n",
       "      <td>0.001335</td>\n",
       "      <td>0.983871</td>\n",
       "      <td>10.796426</td>\n",
       "      <td>0.001212</td>\n",
       "      <td>56.349982</td>\n",
       "      <td>COLCHONES, SARTEN, REFRIGERADORAS --&gt; COCINAS</td>\n",
       "    </tr>\n",
       "    <tr>\n",
       "      <th>15</th>\n",
       "      <td>(COLCHONES, SARTEN)</td>\n",
       "      <td>(REFRIGERADORAS)</td>\n",
       "      <td>0.001408</td>\n",
       "      <td>0.105920</td>\n",
       "      <td>0.001357</td>\n",
       "      <td>0.963731</td>\n",
       "      <td>9.098676</td>\n",
       "      <td>0.001208</td>\n",
       "      <td>24.651067</td>\n",
       "      <td>COLCHONES, SARTEN --&gt; REFRIGERADORAS</td>\n",
       "    </tr>\n",
       "    <tr>\n",
       "      <th>21</th>\n",
       "      <td>(COLCHONES, SARTEN)</td>\n",
       "      <td>(COCINAS)</td>\n",
       "      <td>0.001408</td>\n",
       "      <td>0.091129</td>\n",
       "      <td>0.001343</td>\n",
       "      <td>0.953368</td>\n",
       "      <td>10.461703</td>\n",
       "      <td>0.001214</td>\n",
       "      <td>19.490227</td>\n",
       "      <td>COLCHONES, SARTEN --&gt; COCINAS</td>\n",
       "    </tr>\n",
       "  </tbody>\n",
       "</table>\n",
       "</div>"
      ],
      "text/plain": [
       "                            antecedents       consequents  antecedent support  \\\n",
       "25         (COLCHONES, SARTEN, COCINAS)  (REFRIGERADORAS)            0.001343   \n",
       "26    (COCINAS, SARTEN, REFRIGERADORAS)       (COLCHONES)            0.001350   \n",
       "24  (COLCHONES, SARTEN, REFRIGERADORAS)         (COCINAS)            0.001357   \n",
       "15                  (COLCHONES, SARTEN)  (REFRIGERADORAS)            0.001408   \n",
       "21                  (COLCHONES, SARTEN)         (COCINAS)            0.001408   \n",
       "\n",
       "    consequent support   support  confidence       lift  leverage  conviction  \\\n",
       "25            0.105920  0.001335    0.994565   9.389789  0.001193  164.510744   \n",
       "26            0.025021  0.001335    0.989189  39.534970  0.001302   90.185593   \n",
       "24            0.091129  0.001335    0.983871  10.796426  0.001212   56.349982   \n",
       "15            0.105920  0.001357    0.963731   9.098676  0.001208   24.651067   \n",
       "21            0.091129  0.001343    0.953368  10.461703  0.001214   19.490227   \n",
       "\n",
       "                                            rules  \n",
       "25  COLCHONES, SARTEN, COCINAS --> REFRIGERADORAS  \n",
       "26  COCINAS, SARTEN, REFRIGERADORAS --> COLCHONES  \n",
       "24  COLCHONES, SARTEN, REFRIGERADORAS --> COCINAS  \n",
       "15           COLCHONES, SARTEN --> REFRIGERADORAS  \n",
       "21                  COLCHONES, SARTEN --> COCINAS  "
      ]
     },
     "execution_count": 17,
     "metadata": {},
     "output_type": "execute_result"
    }
   ],
   "source": [
    "rules['rules'] = rules['rules'].str.replace(\"frozenset\",\"\").str.replace(\"'\",\"\").str.replace(\"{\",\"\").str.replace(\"(\",\"\").str.replace(\"}\",\"\").str.replace(\")\",\"\")\n",
    "rules.head()"
   ]
  },
  {
   "cell_type": "code",
   "execution_count": 18,
   "id": "8e61a034",
   "metadata": {},
   "outputs": [
    {
     "data": {
      "image/png": "[encoded data removed]",
      "text/plain": [
       "<Figure size 720x576 with 1 Axes>"
      ]
     },
     "metadata": {
      "needs_background": "light"
     },
     "output_type": "display_data"
    }
   ],
   "source": [
    "# Grafico\n",
    "fig,axs = plt.subplots(figsize=(10,8)) \n",
    "sns.barplot( data = rules , x='confidence', y='rules', orient =\"h\", \n",
    "            order=rules.sort_values('confidence',ascending = False).rules)\n",
    "_=plt.xlabel(\"confidence\")\n",
    "_=plt.ylabel(\"Rules\")\n",
    "_=plt.suptitle(\"Top 10 de Reglas con mayor Probabilidad de Venta\")"
   ]
  },
  {
   "cell_type": "code",
   "execution_count": 19,
   "id": "66ab4a92",
   "metadata": {},
   "outputs": [],
   "source": [
    "# Comentario:\n",
    "# confidence.- La confianza se refiere a la probalidad de que compre el articulo A (consequents) dado que compro el articulo B (antecedents).\n",
    "#              se calcula: transacciones que contiene ambos articulos (A y B) / transacciones que contiene articulo B."
   ]
  },
  {
   "cell_type": "code",
   "execution_count": 20,
   "id": "2f92b676",
   "metadata": {},
   "outputs": [],
   "source": [
    "# Comentario:\n",
    "# Se observa en la tabla que la 1ra regla con mayor confidence es:\n",
    "# La probabilidad que compre un Televisor dado que compro Sistemas de Audio es 0.77."
   ]
  },
  {
   "cell_type": "code",
   "execution_count": 21,
   "id": "47b1c1e6",
   "metadata": {},
   "outputs": [
    {
     "data": {
      "text/html": [
       "<div>\n",
       "<style scoped>\n",
       "    .dataframe tbody tr th:only-of-type {\n",
       "        vertical-align: middle;\n",
       "    }\n",
       "\n",
       "    .dataframe tbody tr th {\n",
       "        vertical-align: top;\n",
       "    }\n",
       "\n",
       "    .dataframe thead th {\n",
       "        text-align: right;\n",
       "    }\n",
       "</style>\n",
       "<table border=\"1\" class=\"dataframe\">\n",
       "  <thead>\n",
       "    <tr style=\"text-align: right;\">\n",
       "      <th></th>\n",
       "      <th>antecedents</th>\n",
       "      <th>consequents</th>\n",
       "      <th>antecedent support</th>\n",
       "      <th>consequent support</th>\n",
       "      <th>support</th>\n",
       "      <th>confidence</th>\n",
       "      <th>lift</th>\n",
       "      <th>leverage</th>\n",
       "      <th>conviction</th>\n",
       "    </tr>\n",
       "  </thead>\n",
       "  <tbody>\n",
       "    <tr>\n",
       "      <th>0</th>\n",
       "      <td>(COCINAS)</td>\n",
       "      <td>(REFRIGERADORAS)</td>\n",
       "      <td>0.091129</td>\n",
       "      <td>0.105920</td>\n",
       "      <td>0.020022</td>\n",
       "      <td>0.219713</td>\n",
       "      <td>2.074336</td>\n",
       "      <td>0.010370</td>\n",
       "      <td>1.145835</td>\n",
       "    </tr>\n",
       "    <tr>\n",
       "      <th>1</th>\n",
       "      <td>(REFRIGERADORAS)</td>\n",
       "      <td>(COCINAS)</td>\n",
       "      <td>0.105920</td>\n",
       "      <td>0.091129</td>\n",
       "      <td>0.020022</td>\n",
       "      <td>0.189033</td>\n",
       "      <td>2.074336</td>\n",
       "      <td>0.010370</td>\n",
       "      <td>1.120724</td>\n",
       "    </tr>\n",
       "    <tr>\n",
       "      <th>2</th>\n",
       "      <td>(TELEVISORES)</td>\n",
       "      <td>(SISTEMAS DE AUDIO Y VIDEO)</td>\n",
       "      <td>0.202792</td>\n",
       "      <td>0.014834</td>\n",
       "      <td>0.009479</td>\n",
       "      <td>0.046740</td>\n",
       "      <td>3.150805</td>\n",
       "      <td>0.006470</td>\n",
       "      <td>1.033470</td>\n",
       "    </tr>\n",
       "    <tr>\n",
       "      <th>3</th>\n",
       "      <td>(SISTEMAS DE AUDIO Y VIDEO)</td>\n",
       "      <td>(TELEVISORES)</td>\n",
       "      <td>0.014834</td>\n",
       "      <td>0.202792</td>\n",
       "      <td>0.009479</td>\n",
       "      <td>0.638957</td>\n",
       "      <td>3.150805</td>\n",
       "      <td>0.006470</td>\n",
       "      <td>2.208071</td>\n",
       "    </tr>\n",
       "    <tr>\n",
       "      <th>4</th>\n",
       "      <td>(LAVADORAS)</td>\n",
       "      <td>(PLANCHA DE ROPA)</td>\n",
       "      <td>0.087678</td>\n",
       "      <td>0.033237</td>\n",
       "      <td>0.008902</td>\n",
       "      <td>0.101531</td>\n",
       "      <td>3.054788</td>\n",
       "      <td>0.005988</td>\n",
       "      <td>1.076012</td>\n",
       "    </tr>\n",
       "  </tbody>\n",
       "</table>\n",
       "</div>"
      ],
      "text/plain": [
       "                   antecedents                  consequents  \\\n",
       "0                    (COCINAS)             (REFRIGERADORAS)   \n",
       "1             (REFRIGERADORAS)                    (COCINAS)   \n",
       "2                (TELEVISORES)  (SISTEMAS DE AUDIO Y VIDEO)   \n",
       "3  (SISTEMAS DE AUDIO Y VIDEO)                (TELEVISORES)   \n",
       "4                  (LAVADORAS)            (PLANCHA DE ROPA)   \n",
       "\n",
       "   antecedent support  consequent support   support  confidence      lift  \\\n",
       "0            0.091129            0.105920  0.020022    0.219713  2.074336   \n",
       "1            0.105920            0.091129  0.020022    0.189033  2.074336   \n",
       "2            0.202792            0.014834  0.009479    0.046740  3.150805   \n",
       "3            0.014834            0.202792  0.009479    0.638957  3.150805   \n",
       "4            0.087678            0.033237  0.008902    0.101531  3.054788   \n",
       "\n",
       "   leverage  conviction  \n",
       "0  0.010370    1.145835  \n",
       "1  0.010370    1.120724  \n",
       "2  0.006470    1.033470  \n",
       "3  0.006470    2.208071  \n",
       "4  0.005988    1.076012  "
      ]
     },
     "execution_count": 21,
     "metadata": {},
     "output_type": "execute_result"
    }
   ],
   "source": [
    "## Reglas con mayor participacion de venta.\n",
    "rules = association_rules(frequent_itemsets, metric=\"lift\",min_threshold=0.2).sort_values('support',ascending = False)\n",
    "rules.head()"
   ]
  },
  {
   "cell_type": "code",
   "execution_count": 22,
   "id": "9a47ff41",
   "metadata": {},
   "outputs": [],
   "source": [
    "rules['rules'] = rules['antecedents'].astype(str) +'-->'+ rules['consequents'].astype(str)\n",
    "rules = rules.head(10)"
   ]
  },
  {
   "cell_type": "code",
   "execution_count": 23,
   "id": "241c4d35",
   "metadata": {},
   "outputs": [
    {
     "name": "stderr",
     "output_type": "stream",
     "text": [
      "<ipython-input-23-57e656b98586>:1: FutureWarning: The default value of regex will change from True to False in a future version. In addition, single character regular expressions will*not* be treated as literal strings when regex=True.\n"
     ]
    },
    {
     "data": {
      "text/html": [
       "<div>\n",
       "<style scoped>\n",
       "    .dataframe tbody tr th:only-of-type {\n",
       "        vertical-align: middle;\n",
       "    }\n",
       "\n",
       "    .dataframe tbody tr th {\n",
       "        vertical-align: top;\n",
       "    }\n",
       "\n",
       "    .dataframe thead th {\n",
       "        text-align: right;\n",
       "    }\n",
       "</style>\n",
       "<table border=\"1\" class=\"dataframe\">\n",
       "  <thead>\n",
       "    <tr style=\"text-align: right;\">\n",
       "      <th></th>\n",
       "      <th>antecedents</th>\n",
       "      <th>consequents</th>\n",
       "      <th>antecedent support</th>\n",
       "      <th>consequent support</th>\n",
       "      <th>support</th>\n",
       "      <th>confidence</th>\n",
       "      <th>lift</th>\n",
       "      <th>leverage</th>\n",
       "      <th>conviction</th>\n",
       "      <th>rules</th>\n",
       "    </tr>\n",
       "  </thead>\n",
       "  <tbody>\n",
       "    <tr>\n",
       "      <th>0</th>\n",
       "      <td>(COCINAS)</td>\n",
       "      <td>(REFRIGERADORAS)</td>\n",
       "      <td>0.091129</td>\n",
       "      <td>0.105920</td>\n",
       "      <td>0.020022</td>\n",
       "      <td>0.219713</td>\n",
       "      <td>2.074336</td>\n",
       "      <td>0.010370</td>\n",
       "      <td>1.145835</td>\n",
       "      <td>COCINAS--&gt;REFRIGERADORAS</td>\n",
       "    </tr>\n",
       "    <tr>\n",
       "      <th>1</th>\n",
       "      <td>(REFRIGERADORAS)</td>\n",
       "      <td>(COCINAS)</td>\n",
       "      <td>0.105920</td>\n",
       "      <td>0.091129</td>\n",
       "      <td>0.020022</td>\n",
       "      <td>0.189033</td>\n",
       "      <td>2.074336</td>\n",
       "      <td>0.010370</td>\n",
       "      <td>1.120724</td>\n",
       "      <td>REFRIGERADORAS--&gt;COCINAS</td>\n",
       "    </tr>\n",
       "    <tr>\n",
       "      <th>2</th>\n",
       "      <td>(TELEVISORES)</td>\n",
       "      <td>(SISTEMAS DE AUDIO Y VIDEO)</td>\n",
       "      <td>0.202792</td>\n",
       "      <td>0.014834</td>\n",
       "      <td>0.009479</td>\n",
       "      <td>0.046740</td>\n",
       "      <td>3.150805</td>\n",
       "      <td>0.006470</td>\n",
       "      <td>1.033470</td>\n",
       "      <td>TELEVISORES--&gt;SISTEMAS DE AUDIO Y VIDEO</td>\n",
       "    </tr>\n",
       "    <tr>\n",
       "      <th>3</th>\n",
       "      <td>(SISTEMAS DE AUDIO Y VIDEO)</td>\n",
       "      <td>(TELEVISORES)</td>\n",
       "      <td>0.014834</td>\n",
       "      <td>0.202792</td>\n",
       "      <td>0.009479</td>\n",
       "      <td>0.638957</td>\n",
       "      <td>3.150805</td>\n",
       "      <td>0.006470</td>\n",
       "      <td>2.208071</td>\n",
       "      <td>SISTEMAS DE AUDIO Y VIDEO--&gt;TELEVISORES</td>\n",
       "    </tr>\n",
       "    <tr>\n",
       "      <th>4</th>\n",
       "      <td>(LAVADORAS)</td>\n",
       "      <td>(PLANCHA DE ROPA)</td>\n",
       "      <td>0.087678</td>\n",
       "      <td>0.033237</td>\n",
       "      <td>0.008902</td>\n",
       "      <td>0.101531</td>\n",
       "      <td>3.054788</td>\n",
       "      <td>0.005988</td>\n",
       "      <td>1.076012</td>\n",
       "      <td>LAVADORAS--&gt;PLANCHA DE ROPA</td>\n",
       "    </tr>\n",
       "  </tbody>\n",
       "</table>\n",
       "</div>"
      ],
      "text/plain": [
       "                   antecedents                  consequents  \\\n",
       "0                    (COCINAS)             (REFRIGERADORAS)   \n",
       "1             (REFRIGERADORAS)                    (COCINAS)   \n",
       "2                (TELEVISORES)  (SISTEMAS DE AUDIO Y VIDEO)   \n",
       "3  (SISTEMAS DE AUDIO Y VIDEO)                (TELEVISORES)   \n",
       "4                  (LAVADORAS)            (PLANCHA DE ROPA)   \n",
       "\n",
       "   antecedent support  consequent support   support  confidence      lift  \\\n",
       "0            0.091129            0.105920  0.020022    0.219713  2.074336   \n",
       "1            0.105920            0.091129  0.020022    0.189033  2.074336   \n",
       "2            0.202792            0.014834  0.009479    0.046740  3.150805   \n",
       "3            0.014834            0.202792  0.009479    0.638957  3.150805   \n",
       "4            0.087678            0.033237  0.008902    0.101531  3.054788   \n",
       "\n",
       "   leverage  conviction                                    rules  \n",
       "0  0.010370    1.145835                 COCINAS-->REFRIGERADORAS  \n",
       "1  0.010370    1.120724                 REFRIGERADORAS-->COCINAS  \n",
       "2  0.006470    1.033470  TELEVISORES-->SISTEMAS DE AUDIO Y VIDEO  \n",
       "3  0.006470    2.208071  SISTEMAS DE AUDIO Y VIDEO-->TELEVISORES  \n",
       "4  0.005988    1.076012              LAVADORAS-->PLANCHA DE ROPA  "
      ]
     },
     "execution_count": 23,
     "metadata": {},
     "output_type": "execute_result"
    }
   ],
   "source": [
    "rules['rules'] = rules['rules'].str.replace(\"frozenset\",\"\").str.replace(\"'\",\"\").str.replace(\"{\",\"\").str.replace(\"(\",\"\").str.replace(\"}\",\"\").str.replace(\")\",\"\")\n",
    "rules.head()"
   ]
  },
  {
   "cell_type": "code",
   "execution_count": 24,
   "id": "f3eca6f1",
   "metadata": {},
   "outputs": [
    {
     "data": {
      "image/png": "[encoded data removed]",
      "text/plain": [
       "<Figure size 720x576 with 1 Axes>"
      ]
     },
     "metadata": {
      "needs_background": "light"
     },
     "output_type": "display_data"
    }
   ],
   "source": [
    "# Grafico\n",
    "fig,axs = plt.subplots(figsize=(10,8)) \n",
    "sns.barplot( data = rules , x='support', y='rules', orient =\"h\", \n",
    "            order=rules.sort_values('confidence',ascending = False).rules)\n",
    "_=plt.xlabel(\"support\")\n",
    "_=plt.ylabel(\"Rules\")\n",
    "_=plt.suptitle(\"Top 10 de Reglas con mayor Participación de Venta\")"
   ]
  },
  {
   "cell_type": "code",
   "execution_count": 25,
   "id": "fc6a7219",
   "metadata": {},
   "outputs": [],
   "source": [
    "# Comentario:\n",
    "# Se observa en la tabla que la 1ra regla con mayor partipacion de venta es:\n",
    "# La combinacion entre Televisores y sistemas de audio y video son las mas vendidas "
   ]
  },
  {
   "cell_type": "code",
   "execution_count": null,
   "id": "4feb35b6",
   "metadata": {},
   "outputs": [],
   "source": []
  }
 ],
 "metadata": {
  "kernelspec": {
   "display_name": "Python 3",
   "language": "python",
   "name": "python3"
  },
  "language_info": {
   "codemirror_mode": {
    "name": "ipython",
    "version": 3
   },
   "file_extension": ".py",
   "mimetype": "text/x-python",
   "name": "python",
   "nbconvert_exporter": "python",
   "pygments_lexer": "ipython3",
   "version": "3.8.8"
  }
 },
 "nbformat": 4,
 "nbformat_minor": 5
}
